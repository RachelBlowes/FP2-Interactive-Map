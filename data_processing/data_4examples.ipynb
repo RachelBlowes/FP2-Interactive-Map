{
 "cells": [
  {
   "cell_type": "code",
   "execution_count": 1,
   "metadata": {},
   "outputs": [],
   "source": [
    "import requests\n",
    "import json\n",
    "import pandas as pd\n",
    "import geopandas as gpd\n",
    "from zipfile import ZipFile\n",
    "from shapely.geometry import mapping\n",
    "from datetime import datetime\n",
    "from functools import reduce\n",
    "import numpy as np"
   ]
  },
  {
   "cell_type": "code",
   "execution_count": 6,
   "metadata": {},
   "outputs": [
    {
     "name": "stderr",
     "output_type": "stream",
     "text": [
      "/var/folders/dp/6l162bjn4pzdgpn5hkysn1dr0000gn/T/ipykernel_78051/1335179767.py:1: DtypeWarning: Columns (1,4,5,8,12,13,20,21,45,46,47,48,49,50,51,52,53,55,56,62,63,67,68,69,73,74,75,76,77,78,79,80,81,82,83,84,85,86,87,88,89,91,95,96) have mixed types. Specify dtype option on import or set low_memory=False.\n",
      "  data = pd.read_csv(\"output/sales__and_permitsData_by_date_all.csv\")\n"
     ]
    }
   ],
   "source": [
    "data = pd.read_csv(\"output/sales__and_permitsData_by_date_all.csv\")"
   ]
  },
  {
   "cell_type": "code",
   "execution_count": 4,
   "metadata": {},
   "outputs": [
    {
     "data": {
      "text/plain": [
       "Index(['address', 'street', 'city', 'zip', 'proptype', 'date', 'year', 'price',\n",
       "       'prsldate', 'prslpr', 'mortgage', 'usecode', 'usage', 'style',\n",
       "       'yearbuilt', 'totrooms', 'bathrooms', 'bedrooms', 'lotsize', 'intersf',\n",
       "       'lasqbin', 'amenity', 'lat', 'lon', 'cash_sale', 'buyer_llc_ind',\n",
       "       'buyer_llp_ind', 'buyer_bus_ind', 'buyer_trst_ind', 'buyer_bnk_ind',\n",
       "       'buyer_gse_ind', 'buyer_gov_ind', 'seller_llc_ind', 'seller_llp_ind',\n",
       "       'seller_bus_ind', 'seller_trst_ind', 'seller_bnk_ind', 'seller_gse_ind',\n",
       "       'seller_gov_ind', 'flip_horizon', 'flip_ind', 'buy_side_flip',\n",
       "       'sell_side_flip', 'price_diff', 'price_diff_pch', 'month_horizon',\n",
       "       'flip_term', 'buy_horizon', 'investor_type_purchase_count',\n",
       "       'investor_type_sale_count', 'investor_type_purchase_llc',\n",
       "       'investor_type_sale_llc', 'investor_type_purchase_building',\n",
       "       'investor_type_sale_building', 'avg_annual_value',\n",
       "       'investor_type_purchase_value', 'investor_type_sale_value',\n",
       "       'current_owner', 'restype_R1F', 'tot_owned', 'buyer_purchases',\n",
       "       'R1F_total', 'investor_type_purchase', 'investor_type_sale',\n",
       "       'inv_to_inv', 'ct10_id', 'ct20_id', 'FULL_ADDRESS',\n",
       "       'MAILING_NEIGHBORHOOD', 'parcel_id', 'ZIP_CODE', 'permit_valu_up2_sale',\n",
       "       'permit_fees_up2_sale', 'investor_permit', 'investor_type_permit',\n",
       "       'comments', 'description', 'permittypedescr', 'worktype',\n",
       "       'occupancy_permit', 'permitnumber', 'applicant', 'declared_valuation',\n",
       "       'total_fees', 'issued_date', 'expiration_date', 'status', 'owner',\n",
       "       'owner type', 'occupancytype', 'sq_feet', 'state', 'property_id',\n",
       "       'gpsy', 'gpsx', 'geom_point_2249', 'geom_point_4326'],\n",
       "      dtype='object')"
      ]
     },
     "execution_count": 4,
     "metadata": {},
     "output_type": "execute_result"
    }
   ],
   "source": [
    "data.columns"
   ]
  },
  {
   "cell_type": "code",
   "execution_count": 16,
   "metadata": {},
   "outputs": [],
   "source": [
    "data_4group = data[data['permit_valu_up2_sale'].notna()]\n",
    "aggregations = {col: list for col in data_4group.columns if col != 'flip_ind'}\n",
    "aggregations['flip_ind'] = 'sum' \n",
    "\n",
    "grouped_data = data_4group.groupby('address').agg(aggregations)\n"
   ]
  },
  {
   "cell_type": "code",
   "execution_count": 24,
   "metadata": {},
   "outputs": [],
   "source": [
    "(data[data['address'] == '47-49 Rosseter St']).to_csv('output/47-49 Rosseter St.csv', index=False)"
   ]
  },
  {
   "cell_type": "code",
   "execution_count": 6,
   "metadata": {},
   "outputs": [],
   "source": [
    "example = pd.read_csv('output/11_Joseph_St.csv')"
   ]
  },
  {
   "cell_type": "code",
   "execution_count": 7,
   "metadata": {},
   "outputs": [],
   "source": [
    "example = example[['address','price', 'date', 'flip_ind', 'buy_side_flip', 'sell_side_flip', 'price_diff','permit_valu_up2_sale', 'investor_permit']]"
   ]
  }
 ],
 "metadata": {
  "kernelspec": {
   "display_name": "Python 3",
   "language": "python",
   "name": "python3"
  },
  "language_info": {
   "codemirror_mode": {
    "name": "ipython",
    "version": 3
   },
   "file_extension": ".py",
   "mimetype": "text/x-python",
   "name": "python",
   "nbconvert_exporter": "python",
   "pygments_lexer": "ipython3",
   "version": "3.9.6"
  }
 },
 "nbformat": 4,
 "nbformat_minor": 2
}
